{
  "nbformat": 4,
  "nbformat_minor": 0,
  "metadata": {
    "colab": {
      "provenance": []
    },
    "kernelspec": {
      "name": "python3",
      "display_name": "Python 3"
    },
    "language_info": {
      "name": "python"
    }
  },
  "cells": [
    {
      "cell_type": "markdown",
      "source": [
        "## Q1. What are the two latest user-defined exception constraints in Python 3.X?\n",
        "\n",
        "Answer:- Some commonly raised Exceptions are ArithmeticError, AttributeError, ImportError, IOError, FileNotFoundError, etc"
      ],
      "metadata": {
        "id": "-XT_mPZXAuU1"
      }
    },
    {
      "cell_type": "code",
      "source": [],
      "metadata": {
        "id": "d_6XEdwIA-M0"
      },
      "execution_count": null,
      "outputs": []
    },
    {
      "cell_type": "markdown",
      "source": [
        "## Q2. How are class-based exceptions that have been raised matched to handlers?\n",
        "\n",
        "Answer:- Class-based exceptions can be declared in the interface of procedures. For local procedures, this is done using the addition RAISING of the statements METHODS and FORM. In Class Builder and Function Builder, this done by selecting exception classes when defining exceptions in the interface."
      ],
      "metadata": {
        "id": "0hQfi0QWA-1i"
      }
    },
    {
      "cell_type": "code",
      "source": [],
      "metadata": {
        "id": "KSLk5rMvBVuM"
      },
      "execution_count": null,
      "outputs": []
    },
    {
      "cell_type": "markdown",
      "source": [
        "## Q3. Describe two methods for attaching context information to exception artefacts.\n",
        "\n",
        "Answer:- An object in Python that describes an error is called an exception. When a Python code throws an exception, it has two options: handle the exception immediately or stop and quit."
      ],
      "metadata": {
        "id": "rpd_uXUwBWhz"
      }
    },
    {
      "cell_type": "code",
      "source": [],
      "metadata": {
        "id": "O3WnjYKLEriL"
      },
      "execution_count": null,
      "outputs": []
    },
    {
      "cell_type": "markdown",
      "source": [
        "## Q4. Describe two methods for specifying the text of an exception object&#39;s error message.\n",
        "\n",
        "Answer:- If you want the error class, error message, and stack trace, use sys. exc_info() . The function sys. exc_info() gives you details about the most recent exception"
      ],
      "metadata": {
        "id": "WWsvLcPHEsFq"
      }
    },
    {
      "cell_type": "code",
      "source": [],
      "metadata": {
        "id": "d8vMI0xxFImZ"
      },
      "execution_count": null,
      "outputs": []
    },
    {
      "cell_type": "markdown",
      "source": [
        "## Q5. Why do you no longer use string-based exceptions?\n",
        "\n",
        "Answer:- This is because a string is a sequence; we must assume that error messages are always more than two characters long!"
      ],
      "metadata": {
        "id": "caYu0AERFJR7"
      }
    },
    {
      "cell_type": "code",
      "source": [],
      "metadata": {
        "id": "aZAsAlD2FV67"
      },
      "execution_count": null,
      "outputs": []
    }
  ]
}